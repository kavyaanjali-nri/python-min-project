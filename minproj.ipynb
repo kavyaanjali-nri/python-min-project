{
 "cells": [
  {
   "cell_type": "code",
   "execution_count": null,
   "metadata": {},
   "outputs": [],
   "source": [
    "from matplotlib import pyplot"
   ]
  },
  {
   "cell_type": "markdown",
   "metadata": {},
   "source": [
    "from matplotlib import pyplot as plt"
   ]
  },
  {
   "cell_type": "code",
   "execution_count": 19,
   "metadata": {},
   "outputs": [
    {
     "name": "stdout",
     "output_type": "stream",
     "text": [
      "[22, 14, 19, 25, 10, 4, 7, 3, 8, 16]\n",
      "[11, 21, 11, 0, 1, 18, 24, 5, 15, 18]\n"
     ]
    }
   ],
   "source": [
    "import random\n",
    "x=[]\n",
    "y=[]\n",
    "# loop comprehension\n",
    "[x.append(random.randint(0,25)) for _ in range(10)]\n",
    "[y.append(random.randint(0,25)) for _ in range(10)] \n",
    "#print the x and y values\n",
    "print(x)\n",
    "print(y)\n",
    "\n",
    "\n"
   ]
  },
  {
   "cell_type": "code",
   "execution_count": null,
   "metadata": {},
   "outputs": [],
   "source": []
  },
  {
   "cell_type": "code",
   "execution_count": null,
   "metadata": {},
   "outputs": [],
   "source": [
    "matplotlib improt pyplot as pyplot\n"
   ]
  },
  {
   "cell_type": "code",
   "execution_count": null,
   "metadata": {},
   "outputs": [],
   "source": [
    "import tasks\n"
   ]
  },
  {
   "cell_type": "code",
   "execution_count": 3,
   "metadata": {},
   "outputs": [
    {
     "name": "stdout",
     "output_type": "stream",
     "text": [
      "task1\n"
     ]
    },
    {
     "data": {
      "text/plain": [
       "'Iam wakeup early morning everyday'"
      ]
     },
     "execution_count": 3,
     "metadata": {},
     "output_type": "execute_result"
    }
   ],
   "source": [
    "print(\"task1\")\n",
    "\"Iam wakeup early morning everyday\"\n"
   ]
  },
  {
   "cell_type": "code",
   "execution_count": 2,
   "metadata": {},
   "outputs": [
    {
     "name": "stdout",
     "output_type": "stream",
     "text": [
      "task2\n"
     ]
    },
    {
     "data": {
      "text/plain": [
       "'Then i will come to college by bus'"
      ]
     },
     "execution_count": 2,
     "metadata": {},
     "output_type": "execute_result"
    }
   ],
   "source": [
    "print(\"task2\")\n",
    "\"Then i will come to college by bus\""
   ]
  },
  {
   "cell_type": "code",
   "execution_count": 5,
   "metadata": {},
   "outputs": [
    {
     "name": "stdout",
     "output_type": "stream",
     "text": [
      "task3\n"
     ]
    },
    {
     "data": {
      "text/plain": [
       "'I love MaheshBabu because smile,attitude everything'"
      ]
     },
     "execution_count": 5,
     "metadata": {},
     "output_type": "execute_result"
    }
   ],
   "source": [
    "print(\"task3\")\n",
    "\"I love MaheshBabu because smile,attitude everything\""
   ]
  },
  {
   "cell_type": "code",
   "execution_count": 6,
   "metadata": {},
   "outputs": [
    {
     "name": "stdout",
     "output_type": "stream",
     "text": [
      "task4\n"
     ]
    },
    {
     "data": {
      "text/plain": [
       "'I play with the cat daily because i like it'"
      ]
     },
     "execution_count": 6,
     "metadata": {},
     "output_type": "execute_result"
    }
   ],
   "source": [
    "print(\"task4\")\n",
    "\"I play with the cat daily because i like it\""
   ]
  },
  {
   "cell_type": "code",
   "execution_count": 8,
   "metadata": {},
   "outputs": [
    {
     "name": "stdout",
     "output_type": "stream",
     "text": [
      "task5\n"
     ]
    },
    {
     "data": {
      "text/plain": [
       "'SUCCESS is never permanent and failure is never final.'"
      ]
     },
     "execution_count": 8,
     "metadata": {},
     "output_type": "execute_result"
    }
   ],
   "source": [
    "print(\"task5\")\n",
    "\"SUCCESS is never permanent and failure is never final.\""
   ]
  },
  {
   "cell_type": "code",
   "execution_count": 14,
   "metadata": {},
   "outputs": [
    {
     "name": "stdout",
     "output_type": "stream",
     "text": [
      "task6\n"
     ]
    },
    {
     "data": {
      "text/plain": [
       "'I am smile BUT i am sAd.'"
      ]
     },
     "execution_count": 14,
     "metadata": {},
     "output_type": "execute_result"
    }
   ],
   "source": [
    "print(\"task6\")\n",
    "\"I am smile BUT i am sAd.\"\n",
    "      "
   ]
  },
  {
   "cell_type": "code",
   "execution_count": null,
   "metadata": {},
   "outputs": [],
   "source": [
    "import tasks\n"
   ]
  },
  {
   "cell_type": "code",
   "execution_count": 1,
   "metadata": {},
   "outputs": [
    {
     "name": "stdout",
     "output_type": "stream",
     "text": [
      "1.see tha tasks\n",
      "2. create New tasks\n",
      "3. Update tasks\n",
      "4. Delete tasks\n"
     ]
    }
   ],
   "source": [
    "tasks={\n",
    "    \"comlete python project\": \"in progress\",\n",
    "    \"Iam wakeup early morning everyday\": \"To do\",\n",
    "    \"I am piay with cat daily\": \"Done\",\n",
    "    \"Then i will come to college by bus\": \"To do\",\n",
    "\n",
    "}\n",
    "print(\"1.see tha tasks\")\n",
    "print(\"2. create New tasks\")\n",
    "print(\"3. Update tasks\")\n",
    "print(\"4. Delete tasks\")\n",
    "\n",
    "value = input(\"Enter your action (): \")\n",
    "match value:\n",
    "    case \"see\":\n",
    "        print(tasks)\n",
    "    case \"Create\":\n",
    "        task = input(\"Enter new task:\")\n",
    "        task[task] = \"To do\"\n",
    "        print(\"Task added,\")\n",
    "        print(tasks)\n",
    "    case \"update\":\n",
    "        print(tasks)\n",
    "        task = input(\"Ener task to update: \")\n",
    "        if task in tasks:\n",
    "            task = input(\"Ener new description (To do/in progress/Done): \")\n",
    "        else:\n",
    "            print(\"Task not fund.\")\n",
    "    case \"Delete\":\n",
    "        print(tasks)\n",
    "        task = input(\"Enter task to delete: \")\n",
    "        if a is None:\n",
    "            print(\"task not Found\")\n",
    "        else:\n",
    "            print(\"task dalete\")\n",
    "            print(tasks)"
   ]
  },
  {
   "cell_type": "code",
   "execution_count": null,
   "metadata": {},
   "outputs": [],
   "source": []
  }
 ],
 "metadata": {
  "kernelspec": {
   "display_name": "Python 3",
   "language": "python",
   "name": "python3"
  },
  "language_info": {
   "codemirror_mode": {
    "name": "ipython",
    "version": 3
   },
   "file_extension": ".py",
   "mimetype": "text/x-python",
   "name": "python",
   "nbconvert_exporter": "python",
   "pygments_lexer": "ipython3",
   "version": "3.13.1"
  }
 },
 "nbformat": 4,
 "nbformat_minor": 2
}
